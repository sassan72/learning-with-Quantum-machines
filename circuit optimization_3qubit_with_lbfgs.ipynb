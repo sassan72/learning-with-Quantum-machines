{
 "cells": [
  {
   "cell_type": "code",
   "execution_count": 4,
   "id": "b68bccb3",
   "metadata": {},
   "outputs": [],
   "source": [
    "import pennylane as qml\n",
    "from pennylane import numpy as np\n",
    "import matplotlib.pyplot as plt\n",
    "import torch\n",
    "from torch.autograd import Variable\n",
    "\n",
    "\n",
    "np.random.seed(0)\n",
    "\n",
    "a = np.random.random(8) \n",
    "# tensor([0.3139, 0.4091, 0.3448, 0.3117, 0.2423, 0.3695, 0.2503, 0.5101],dtype=torch.float64)\n",
    "\n",
    "a /= np.sqrt(np.sum(np.abs(a) ** 2))\n",
    "\n",
    "a = torch.tensor(a)"
   ]
  },
  {
   "cell_type": "code",
   "execution_count": 5,
   "id": "d9ec4da6",
   "metadata": {},
   "outputs": [],
   "source": [
    "num_qubits = 3\n",
    "dev = qml.device(\"default.qubit\", wires=num_qubits)\n",
    "\n",
    "# design the quantum circuit\n",
    "@qml.qnode(dev, interface='torch')\n",
    "def circuit(params):\n",
    "    qml.RY(params[0], wires=[0])\n",
    "    qml.RY(params[1], wires=[1])\n",
    "    qml.CNOT(wires=[0, 1])\n",
    "    qml.RY(params[2], wires=[1])\n",
    "    #####################################\n",
    "    qml.RY(params[3], wires=[1])\n",
    "    qml.RY(params[4], wires=[2])\n",
    "    qml.CNOT(wires=[1, 2])\n",
    "    qml.RY(params[5], wires=[2])\n",
    "    ######################################\n",
    "    qml.RY(params[6], wires=[0])\n",
    "    qml.RY(params[7], wires=[2])\n",
    "    qml.CNOT(wires=[0, 2])\n",
    "    qml.RY(params[8], wires=[2])\n",
    "    \n",
    "    return qml.state()"
   ]
  },
  {
   "cell_type": "code",
   "execution_count": 6,
   "id": "1e11a9a1",
   "metadata": {},
   "outputs": [],
   "source": [
    "def loss(a,prediction):\n",
    "    total_loss = torch.norm(a-prediction)**2\n",
    "    return total_loss\n",
    "\n",
    "# Define your cost function\n",
    "def cost(a,params):\n",
    "    prediction = circuit(params)\n",
    "    cost = loss(a,prediction)\n",
    "    return cost"
   ]
  },
  {
   "cell_type": "code",
   "execution_count": 7,
   "id": "e929e55d",
   "metadata": {},
   "outputs": [],
   "source": [
    "params =np.array([0.1, 0.1, 0.1, 0.1, 0.1, 0.1, 0.1, 0.1, 0.1])"
   ]
  },
  {
   "cell_type": "code",
   "execution_count": 8,
   "id": "27e108ae",
   "metadata": {},
   "outputs": [],
   "source": [
    "params = Variable(torch.tensor(params), requires_grad=True)"
   ]
  },
  {
   "cell_type": "code",
   "execution_count": 9,
   "id": "c75c1927",
   "metadata": {},
   "outputs": [],
   "source": [
    "opt = torch.optim.LBFGS([params], lr=0.1)"
   ]
  },
  {
   "cell_type": "code",
   "execution_count": 10,
   "id": "d710eb12",
   "metadata": {},
   "outputs": [],
   "source": [
    "steps = 10"
   ]
  },
  {
   "cell_type": "code",
   "execution_count": 11,
   "id": "563064b8",
   "metadata": {},
   "outputs": [],
   "source": [
    "def closure():\n",
    "    opt.zero_grad()\n",
    "    loss = cost(a, params)\n",
    "    loss.backward()\n",
    "    return loss\n",
    "\n",
    "y = []\n",
    "for i in range(steps): \n",
    "    y.append(opt.step(closure))"
   ]
  },
  {
   "cell_type": "code",
   "execution_count": 12,
   "id": "66e5c856",
   "metadata": {},
   "outputs": [],
   "source": [
    "x =  [i for i in range(0, 10)]\n",
    "\n",
    "y_3q = [i.detach().numpy() for i in y]"
   ]
  },
  {
   "cell_type": "code",
   "execution_count": 14,
   "id": "28187b95",
   "metadata": {},
   "outputs": [
    {
     "data": {
      "image/png": "[encoded data removed]",
      "text/plain": [
       "<Figure size 640x480 with 1 Axes>"
      ]
     },
     "metadata": {},
     "output_type": "display_data"
    }
   ],
   "source": [
    "plt.plot(x, y_3q, label = \"2-qubit\")\n",
    "plt.xlabel(\"number of iterations\")\n",
    "plt.ylabel(\"loss\")\n",
    "plt.title('loss function')\n",
    "plt.legend()\n",
    "plt.show()"
   ]
  },
  {
   "cell_type": "code",
   "execution_count": null,
   "id": "60ab3f87",
   "metadata": {},
   "outputs": [],
   "source": []
  }
 ],
 "metadata": {
  "kernelspec": {
   "display_name": "Python 3 (ipykernel)",
   "language": "python",
   "name": "python3"
  },
  "language_info": {
   "codemirror_mode": {
    "name": "ipython",
    "version": 3
   },
   "file_extension": ".py",
   "mimetype": "text/x-python",
   "name": "python",
   "nbconvert_exporter": "python",
   "pygments_lexer": "ipython3",
   "version": "3.7.7"
  }
 },
 "nbformat": 4,
 "nbformat_minor": 5
}
