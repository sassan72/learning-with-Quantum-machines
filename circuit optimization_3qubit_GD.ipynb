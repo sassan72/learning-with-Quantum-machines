{
 "cells": [
  {
   "cell_type": "code",
   "execution_count": 7,
   "id": "360d9533",
   "metadata": {},
   "outputs": [],
   "source": [
    "from scipy import optimize\n",
    "import pennylane as qml\n",
    "from pennylane import numpy as np\n",
    "import matplotlib.pyplot as plt\n",
    "\n",
    "\n",
    "np.random.seed(0)\n",
    "\n",
    "\n"
   ]
  },
  {
   "cell_type": "code",
   "execution_count": 8,
   "id": "5c852f9c",
   "metadata": {},
   "outputs": [],
   "source": [
    "a = np.random.random(8) \n",
    "\n",
    "a /= np.sqrt(np.sum(np.abs(a) ** 2))\n",
    "\n",
    "num_qubits = 3\n",
    "dev = qml.device('default.qubit', wires=num_qubits)"
   ]
  },
  {
   "cell_type": "code",
   "execution_count": 9,
   "id": "30c50ae0",
   "metadata": {},
   "outputs": [],
   "source": [
    "# design the quantum circuit\n",
    "@qml.qnode(dev)\n",
    "def circuit(params):\n",
    "    qml.RY(params[0], wires=[0])\n",
    "    qml.RY(params[1], wires=[1])\n",
    "    qml.RY(params[2], wires=[2])\n",
    "    qml.CNOT(wires=[0, 1])\n",
    "    qml.RY(params[3], wires=[0])\n",
    "    qml.CNOT(wires=[0, 2])\n",
    "    qml.RY(params[4], wires=[2])\n",
    "    qml.CNOT(wires=[1, 2])\n",
    "    qml.RY(params[5], wires=[0])\n",
    "    qml.RY(params[6], wires=[1])\n",
    "    qml.RY(params[7], wires=[2])\n",
    "    return qml.state()"
   ]
  },
  {
   "cell_type": "code",
   "execution_count": 10,
   "id": "7d060a18",
   "metadata": {},
   "outputs": [],
   "source": [
    "def loss(a,prediction):\n",
    "    total_loss = np.real(np.sum(np.array((a-prediction)**2)))\n",
    "    return total_loss\n",
    "\n",
    "# Define cost function\n",
    "def cost(a,params):\n",
    "    prediction = circuit(params)\n",
    "    cost = loss(a,prediction)\n",
    "    return cost\n",
    "\n",
    "# Train the circuit\n",
    "\n",
    "# Choose an optimizer and a step size\n",
    "opt = qml.AdagradOptimizer(stepsize=0.1)\n",
    "\n",
    "# initial guess for the trainable parameters \n",
    "params = np.array([0.1, 0.1, 0.1, 0.1, 0.1, 0.1, 0.1, 0.1],requires_grad=True)\n",
    "\n",
    "# Iteration over a number of defined steps\n",
    "y = []\n",
    "for i in range(300):\n",
    "    params_and_a,prev_cost = opt.step_and_cost(cost,a,params)\n",
    "    params = params_and_a[1]\n",
    "    y.append(prev_cost)"
   ]
  },
  {
   "cell_type": "code",
   "execution_count": 11,
   "id": "6b6fded5",
   "metadata": {},
   "outputs": [],
   "source": [
    "x =  [i for i in range(300)]"
   ]
  },
  {
   "cell_type": "code",
   "execution_count": 12,
   "id": "f7fde9be",
   "metadata": {},
   "outputs": [
    {
     "data": {
      "image/png": "[encoded data removed]",
      "text/plain": [
       "<Figure size 640x480 with 1 Axes>"
      ]
     },
     "metadata": {},
     "output_type": "display_data"
    }
   ],
   "source": [
    "plt.plot(x, y)\n",
    "plt.xlabel(\"number of iterations\")\n",
    "plt.ylabel(\"loss\")\n",
    "plt.title('loss function')\n",
    "plt.show()"
   ]
  },
  {
   "cell_type": "code",
   "execution_count": null,
   "id": "98a3b9c6",
   "metadata": {},
   "outputs": [],
   "source": []
  }
 ],
 "metadata": {
  "kernelspec": {
   "display_name": "Python 3 (ipykernel)",
   "language": "python",
   "name": "python3"
  },
  "language_info": {
   "codemirror_mode": {
    "name": "ipython",
    "version": 3
   },
   "file_extension": ".py",
   "mimetype": "text/x-python",
   "name": "python",
   "nbconvert_exporter": "python",
   "pygments_lexer": "ipython3",
   "version": "3.7.7"
  }
 },
 "nbformat": 4,
 "nbformat_minor": 5
}
