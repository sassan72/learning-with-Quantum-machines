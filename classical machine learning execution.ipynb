{
 "cells": [
  {
   "cell_type": "code",
   "execution_count": 1,
   "id": "33825b4c",
   "metadata": {},
   "outputs": [],
   "source": [
    "import numpy as np\n",
    "import matplotlib.pyplot as plt\n",
    "from matplotlib.colors import ListedColormap\n",
    "from sklearn.model_selection import train_test_split\n",
    "from sklearn.preprocessing import StandardScaler\n",
    "from sklearn.datasets import make_moons, make_circles, make_classification\n",
    "from sklearn.neural_network import MLPClassifier\n",
    "from sklearn.neighbors import KNeighborsClassifier\n",
    "from sklearn.svm import SVC\n",
    "from sklearn.svm import LinearSVC\n",
    "from sklearn.gaussian_process import GaussianProcessClassifier\n",
    "from sklearn.gaussian_process.kernels import Matern\n",
    "from sklearn.tree import DecisionTreeClassifier\n",
    "from sklearn.ensemble import RandomForestClassifier, AdaBoostClassifier\n",
    "from sklearn.naive_bayes import GaussianNB\n",
    "from sklearn.discriminant_analysis import QuadraticDiscriminantAnalysis\n",
    "from sklearn.gaussian_process.kernels import Matern\n",
    "from sklearn.svm import SVC\n",
    "from sklearn.gaussian_process.kernels import RationalQuadratic\n",
    "import sklearn.decomposition\n",
    "from sklearn import metrics\n",
    "\n",
    "data1 = np.loadtxt(\"TDS.txt\") # import pandas as pd\n",
    "\n",
    "data2 = np.loadtxt(\"CERVICAL-F16-REC-ORIGINAL-1y.txt\") #\n",
    "\n",
    "data3 = np.loadtxt(\"CERVICAL-F16-REC-ORIGINAL-1x-test.txt\") #\n",
    "\n",
    "data4 = np.loadtxt(\"CERVICAL-F16-REC-ORIGINAL-1y-test.txt\") #\n",
    "\n",
    "y_train= data2[:,] \n",
    "\n",
    "X_train2=data1[:]\n",
    "\n",
    "y_test= data4[:,] \n",
    "\n",
    "X_test2=data3[:]\n",
    "\n"
   ]
  },
  {
   "cell_type": "code",
   "execution_count": 2,
   "id": "d99579d6",
   "metadata": {},
   "outputs": [],
   "source": [
    "X_train1 = sklearn.preprocessing.normalize(X_train2, norm='l2',axis=0)\n",
    "\n",
    "X_test1 = sklearn.preprocessing.normalize(X_test2, norm='l2', axis=0)\n",
    "\n",
    "X_train = sklearn.preprocessing.normalize(X_train1, norm='l2',axis=1)\n",
    "\n",
    "X_test = sklearn.preprocessing.normalize(X_test1, norm='l2', axis=1)"
   ]
  },
  {
   "cell_type": "code",
   "execution_count": 3,
   "id": "a6d72c96",
   "metadata": {},
   "outputs": [],
   "source": [
    "names = [\"Nearest Neighbors\", \"Linear SVM\", \"SVM\", \"GP\",\n",
    "         \"Decision Tree\", \"Random Forest\", \"Neural Net\", \"AdaBoost\",\n",
    "         \"Naive Bayes\", \"QDA\"]\n",
    "kernel = 1.0 * Matern()"
   ]
  },
  {
   "cell_type": "code",
   "execution_count": 4,
   "id": "bb8ddb46",
   "metadata": {},
   "outputs": [],
   "source": [
    "classifiers = [\n",
    "    KNeighborsClassifier(5),\n",
    "    LinearSVC(),\n",
    "    SVC(kernel=kernel),\n",
    "    GaussianProcessClassifier(kernel=kernel),\n",
    "    DecisionTreeClassifier(),\n",
    "    RandomForestClassifier(),\n",
    "    MLPClassifier(hidden_layer_sizes=(100,), solver='adam'),\n",
    "    AdaBoostClassifier(),\n",
    "    GaussianNB(),\n",
    "    QuadraticDiscriminantAnalysis()]"
   ]
  },
  {
   "cell_type": "code",
   "execution_count": 5,
   "id": "e9ab5255",
   "metadata": {},
   "outputs": [
    {
     "name": "stdout",
     "output_type": "stream",
     "text": [
      "Nearest Neighbors [0. 1. 1. 1. 1. 1. 1. 1. 1. 1. 1. 0.] [[2 4]\n",
      " [0 6]]\n",
      "Linear SVM [0. 1. 0. 1. 1. 1. 1. 1. 1. 0. 1. 0.] [[4 2]\n",
      " [0 6]]\n",
      "SVM [0. 1. 0. 1. 1. 0. 1. 1. 1. 0. 1. 0.] [[5 1]\n",
      " [0 6]]\n",
      "GP [0. 1. 0. 1. 1. 1. 1. 1. 1. 0. 1. 0.] [[4 2]\n",
      " [0 6]]\n",
      "Decision Tree [0. 1. 1. 1. 1. 1. 0. 1. 1. 0. 1. 0.] [[3 3]\n",
      " [1 5]]\n",
      "Random Forest [0. 1. 1. 1. 1. 1. 1. 1. 1. 0. 1. 0.] [[3 3]\n",
      " [0 6]]\n",
      "Neural Net [0. 1. 0. 1. 1. 1. 1. 1. 1. 0. 1. 0.] [[4 2]\n",
      " [0 6]]\n",
      "AdaBoost [0. 1. 1. 1. 1. 0. 0. 1. 1. 0. 1. 0.] [[4 2]\n",
      " [1 5]]\n",
      "Naive Bayes [0. 1. 0. 1. 1. 0. 1. 1. 1. 0. 1. 0.] [[5 1]\n",
      " [0 6]]\n",
      "QDA [0. 1. 0. 1. 1. 0. 1. 1. 1. 0. 1. 0.] [[5 1]\n",
      " [0 6]]\n"
     ]
    },
    {
     "name": "stderr",
     "output_type": "stream",
     "text": [
      "/home/smoradi/anaconda3/lib/python3.7/site-packages/sklearn/neural_network/_multilayer_perceptron.py:696: ConvergenceWarning: Stochastic Optimizer: Maximum iterations (200) reached and the optimization hasn't converged yet.\n",
      "  ConvergenceWarning,\n"
     ]
    }
   ],
   "source": [
    "import sklearn.decomposition\n",
    "from sklearn import metrics\n",
    "\n",
    "\n",
    "for name, clf in zip(names, classifiers):\n",
    "    clf.fit(X_train, y_train)\n",
    "    predictions = clf.predict(X_test)\n",
    "    print(name, predictions, metrics.confusion_matrix(y_test, predictions, labels=[0,1]))\n"
   ]
  },
  {
   "cell_type": "code",
   "execution_count": null,
   "id": "009abe5a",
   "metadata": {},
   "outputs": [],
   "source": []
  }
 ],
 "metadata": {
  "kernelspec": {
   "display_name": "Python 3 (ipykernel)",
   "language": "python",
   "name": "python3"
  },
  "language_info": {
   "codemirror_mode": {
    "name": "ipython",
    "version": 3
   },
   "file_extension": ".py",
   "mimetype": "text/x-python",
   "name": "python",
   "nbconvert_exporter": "python",
   "pygments_lexer": "ipython3",
   "version": "3.7.7"
  }
 },
 "nbformat": 4,
 "nbformat_minor": 5
}
