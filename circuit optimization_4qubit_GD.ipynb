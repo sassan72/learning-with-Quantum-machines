{
 "cells": [
  {
   "cell_type": "code",
   "execution_count": 1,
   "id": "270475a7",
   "metadata": {},
   "outputs": [],
   "source": [
    "from scipy import optimize\n",
    "import pennylane as qml\n",
    "from pennylane import numpy as np\n",
    "import matplotlib.pyplot as plt\n",
    "\n",
    "\n",
    "np.random.seed(0)"
   ]
  },
  {
   "cell_type": "code",
   "execution_count": 2,
   "id": "99904a46",
   "metadata": {},
   "outputs": [],
   "source": [
    "a = np.random.random(16) \n",
    "\n",
    "a /= np.sqrt(np.sum(np.abs(a) ** 2))\n",
    "\n",
    "num_qubits = 4\n",
    "dev = qml.device('default.qubit', wires=num_qubits)"
   ]
  },
  {
   "cell_type": "code",
   "execution_count": 3,
   "id": "ad48c4c9",
   "metadata": {},
   "outputs": [],
   "source": [
    "@qml.qnode(dev)\n",
    "def circuit(params):\n",
    "    # 0-1\n",
    "    qml.RY(params[0], wires=[0])\n",
    "    qml.RY(params[1], wires=[1])\n",
    "    qml.CNOT(wires=[0, 1])\n",
    "    qml.RY(params[2], wires=[1])\n",
    "    ####################################\n",
    "    #2-3\n",
    "    qml.RY(params[3], wires=[2])\n",
    "    qml.RY(params[4], wires=[3])\n",
    "    qml.CNOT(wires=[2, 3])\n",
    "    qml.RY(params[5], wires=[3])\n",
    "    ###################################\n",
    "    #1-2\n",
    "    qml.RY(params[6], wires=[1])\n",
    "    qml.RY(params[7], wires=[2])\n",
    "    qml.CNOT(wires=[1, 2])\n",
    "    #qml.RY(params[8], wires=[2])\n",
    "    \n",
    "    ########################################\n",
    "    #0-2\n",
    "    qml.RY(params[8], wires=[0])\n",
    "    qml.RY(params[9], wires=[2])\n",
    "    qml.CNOT(wires=[0, 2])\n",
    "    qml.RY(params[10], wires=[2])\n",
    "    ########################################\n",
    "    #1-3\n",
    "    qml.RY(params[11], wires=[1])\n",
    "    qml.RY(params[12], wires=[3])\n",
    "    qml.CNOT(wires=[1, 3])\n",
    "    #qml.RY(params[14], wires=[3])\n",
    "    \n",
    "    #0-3\n",
    "    qml.RY(params[13], wires=[0])\n",
    "    qml.RY(params[14], wires=[3])\n",
    "    qml.CNOT(wires=[0, 3])\n",
    "    qml.RY(params[15], wires=[3])\n",
    "    \n",
    "    \n",
    "\n",
    "    return qml.state()\n"
   ]
  },
  {
   "cell_type": "code",
   "execution_count": 4,
   "id": "aa823f83",
   "metadata": {},
   "outputs": [],
   "source": [
    "def loss(a,prediction):\n",
    "    total_loss = np.real(np.sum(np.array((a-prediction)**2)))\n",
    "    return total_loss\n",
    "\n",
    "def cost(a,params):\n",
    "    prediction = circuit(params)\n",
    "    cost = loss(a,prediction)\n",
    "    return cost\n",
    "\n",
    "\n",
    "opt = qml.AdagradOptimizer(0.1)\n",
    "\n",
    "params = np.array([0.1, 0.1, 0.1, 0.1, 0.1, 0.1, 0.1, 0.1, 0.1, 0.1, 0.1, 0.1, 0.1, 0.1, 0.1, 0.1],requires_grad=True)\n",
    "\n",
    "\n",
    "y = []\n",
    "for i in range(300):\n",
    "    params_and_a,prev_cost = opt.step_and_cost(cost,a,params)\n",
    "    params = params_and_a[1]\n",
    "    y.append(prev_cost)"
   ]
  },
  {
   "cell_type": "code",
   "execution_count": 5,
   "id": "87c0a55d",
   "metadata": {},
   "outputs": [],
   "source": [
    "x =  [i for i in range(300)]"
   ]
  },
  {
   "cell_type": "code",
   "execution_count": 6,
   "id": "8696271e",
   "metadata": {},
   "outputs": [
    {
     "data": {
      "image/png": "[encoded data removed]",
      "text/plain": [
       "<Figure size 640x480 with 1 Axes>"
      ]
     },
     "metadata": {},
     "output_type": "display_data"
    }
   ],
   "source": [
    "plt.plot(x, y)\n",
    "#plt.legend(loc=\"Gradient\")\n",
    "plt.xlabel(\"number of iterations\")\n",
    "plt.ylabel(\"loss\")\n",
    "plt.title('loss function')\n",
    "plt.show()"
   ]
  },
  {
   "cell_type": "code",
   "execution_count": null,
   "id": "0152da05",
   "metadata": {},
   "outputs": [],
   "source": []
  }
 ],
 "metadata": {
  "kernelspec": {
   "display_name": "Python 3 (ipykernel)",
   "language": "python",
   "name": "python3"
  },
  "language_info": {
   "codemirror_mode": {
    "name": "ipython",
    "version": 3
   },
   "file_extension": ".py",
   "mimetype": "text/x-python",
   "name": "python",
   "nbconvert_exporter": "python",
   "pygments_lexer": "ipython3",
   "version": "3.7.7"
  }
 },
 "nbformat": 4,
 "nbformat_minor": 5
}
